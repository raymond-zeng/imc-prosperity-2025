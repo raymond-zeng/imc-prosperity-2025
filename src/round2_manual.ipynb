{
 "cells": [
  {
   "cell_type": "code",
   "execution_count": 1,
   "id": "05110ae3",
   "metadata": {},
   "outputs": [],
   "source": [
    "import numpy as np\n",
    "import itertools\n",
    "import math\n",
    "from wolframclient.evaluation import WolframLanguageSession\n",
    "from wolframclient.language import wl, wlexpr\n",
    "import heapq\n",
    "import pandas as pd"
   ]
  },
  {
   "cell_type": "code",
   "execution_count": 2,
   "id": "992725b8",
   "metadata": {},
   "outputs": [],
   "source": [
    "arr = np.array([[(10,1), (80,6), (37,3), (17,1), (90,10)],\n",
    "                [(31,2), (50,4), (20,2), (73,4), (89,8)]])"
   ]
  },
  {
   "cell_type": "code",
   "execution_count": 3,
   "id": "cc3a7c30",
   "metadata": {},
   "outputs": [
    {
     "name": "stdout",
     "output_type": "stream",
     "text": [
      "[[0.01  0.1   0.044 0.024 0.08 ]\n",
      " [0.042 0.06  0.02  0.106 0.098]]\n"
     ]
    }
   ],
   "source": [
    "thresh = np.zeros((2, 5))\n",
    "for i in range(2):\n",
    "    for j in range(5):\n",
    "        mult, inhabitants = arr[i, j]\n",
    "        thresh[i, j] = (mult - 5 * inhabitants) / 500\n",
    "with np.printoptions(precision=3, suppress=True):\n",
    "    print(thresh)"
   ]
  },
  {
   "cell_type": "code",
   "execution_count": 4,
   "id": "da44cd6c",
   "metadata": {},
   "outputs": [],
   "source": [
    "def maximin1():\n",
    "    \"\"\"Solves the maximin optimization problem for a single expedition.\n",
    "\n",
    "    Parameters\n",
    "    ----------\n",
    "    \n",
    "    Returns\n",
    "    -------\n",
    "    argmax : list of tuple\n",
    "        Maximizers.\n",
    "    max_val : float\n",
    "        Maximal profit.\n",
    "        \n",
    "    \"\"\"\n",
    "    max_val = float('-inf')\n",
    "    argmax = []\n",
    "    for mult, inhabitants in arr.reshape(-1, 2):\n",
    "        val = mult / (inhabitants + 100) * 10000\n",
    "        if math.isclose(val, max_val):\n",
    "            argmax.append((mult, inhabitants))\n",
    "        elif val > max_val:\n",
    "            argmax = [(mult, inhabitants)]\n",
    "            max_val = val\n",
    "    return (argmax, max_val)"
   ]
  },
  {
   "cell_type": "code",
   "execution_count": null,
   "id": "c19500f5",
   "metadata": {},
   "outputs": [
    {
     "data": {
      "text/plain": [
       "([(np.int64(89), np.int64(8))], np.float64(8240.74074074074))"
      ]
     },
     "execution_count": 5,
     "metadata": {},
     "output_type": "execute_result"
    }
   ],
   "source": [
    "maximin1()"
   ]
  },
  {
   "cell_type": "code",
   "execution_count": 6,
   "id": "ea149e5e",
   "metadata": {},
   "outputs": [],
   "source": [
    "session = WolframLanguageSession(kernel=\"/Applications/Wolfram Engine.app/Contents/MacOS/WolframKernel\")\n",
    "\n",
    "def maximize2():\n",
    "    \"\"\"Solves the maximin optimization problem for two expeditions. Returns only one solution, there may be other.\n",
    "\n",
    "    Parameters\n",
    "    ----------\n",
    "    \n",
    "    Returns\n",
    "    -------\n",
    "    argmax1 : tuple\n",
    "        First expedition.\n",
    "    argmax2 : tuple\n",
    "        Second expedition.\n",
    "    max_val : float\n",
    "        Maximal profit.\n",
    "        \n",
    "    \"\"\"\n",
    "    max_val = float('-inf')\n",
    "    max_mult1, max_hunt1 = None, None\n",
    "    max_mult2, max_hunt2 = None, None\n",
    "    for (mult1, hunt1), (mult2, hunt2) in itertools.combinations(arr.reshape((-1, 2)), 2):\n",
    "        val_temp = session.evaluate(wlexpr(f'NMinimize[{{{mult1}/({hunt1} + 100*p1) + {mult2}/({hunt2} + 100*p2), 0 <= p1, 0 <= p2, p1 + p2 <= 1}}, {{p1, p2}}]'))[0]\n",
    "        val = -50000 + val_temp * 10000\n",
    "        if math.isclose(val, max_val):\n",
    "            print(\"collision\")\n",
    "        if val > max_val:\n",
    "            max_mult1, max_hunt1 = mult1, hunt1\n",
    "            max_mult2, max_hunt2 = mult2, hunt2\n",
    "            max_val = val\n",
    "    return ((max_mult1, max_hunt1), (max_mult2, max_hunt2), max_val)"
   ]
  },
  {
   "cell_type": "code",
   "execution_count": 9,
   "id": "0df0d757",
   "metadata": {},
   "outputs": [
    {
     "data": {
      "text/plain": [
       "((np.int64(90), np.int64(10)),\n",
       " (np.int64(89), np.int64(8)),\n",
       " -19661.253928024653)"
      ]
     },
     "execution_count": 9,
     "metadata": {},
     "output_type": "execute_result"
    }
   ],
   "source": [
    "maximize2()"
   ]
  },
  {
   "cell_type": "code",
   "execution_count": 10,
   "id": "62851277",
   "metadata": {},
   "outputs": [
    {
     "name": "stdout",
     "output_type": "stream",
     "text": [
      "Ratios:\n",
      "[[10.   13.33 12.33 17.    9.  ]\n",
      " [15.5  12.5  10.   18.25 11.12]]\n"
     ]
    }
   ],
   "source": [
    "ratios = np.zeros((2, 5))\n",
    "for i in range(2):\n",
    "    for j in range(5):\n",
    "        mult, hunt = arr[i, j]\n",
    "        ratios[i, j] = mult/hunt\n",
    "with np.printoptions(precision=2, suppress=True):\n",
    "    print(\"Ratios:\", ratios, sep='\\n')"
   ]
  },
  {
   "cell_type": "code",
   "execution_count": 11,
   "id": "f0ed7258",
   "metadata": {},
   "outputs": [
    {
     "name": "stdout",
     "output_type": "stream",
     "text": [
      "Natural prior:\n",
      "[[0.077 0.103 0.096 0.132 0.07 ]\n",
      " [0.12  0.097 0.077 0.141 0.086]]\n"
     ]
    }
   ],
   "source": [
    "shares = ratios / np.sum(ratios)\n",
    "with np.printoptions(precision=3, suppress=True):\n",
    "    print(\"Natural prior:\", shares, sep='\\n')"
   ]
  },
  {
   "cell_type": "code",
   "execution_count": 12,
   "id": "91b0a066",
   "metadata": {},
   "outputs": [
    {
     "name": "stdout",
     "output_type": "stream",
     "text": [
      "Natural prior with exponent 5:\n",
      "[[0.017 0.073 0.049 0.246 0.01 ]\n",
      " [0.155 0.053 0.017 0.35  0.029]]\n"
     ]
    }
   ],
   "source": [
    "ratios = np.zeros((2, 5))\n",
    "for i in range(2):\n",
    "    for j in range(5):\n",
    "        mult, hunt = arr[i, j]\n",
    "        ratios[i, j] = mult/hunt\n",
    "ratios = ratios**5\n",
    "shares = ratios / np.sum(ratios)\n",
    "with np.printoptions(precision=3, suppress=True):\n",
    "    print(\"Natural prior with exponent 5:\", shares, sep='\\n')"
   ]
  },
  {
   "cell_type": "code",
   "execution_count": 21,
   "id": "73523412",
   "metadata": {},
   "outputs": [],
   "source": [
    "def fee(n):\n",
    "    \"\"\"Compute the fee for a total of n expeditions.\n",
    "\n",
    "    Parameters\n",
    "    ----------\n",
    "    n : int\n",
    "        Number of expeditions.\n",
    "    \n",
    "    Returns\n",
    "    -------\n",
    "    float\n",
    "        Fee.\n",
    "    \"\"\"\n",
    "    if n == 1:\n",
    "        return 0\n",
    "    if n == 2:\n",
    "        return -50000\n",
    "\n",
    "def payoff(mults, hunts, shares):\n",
    "    \"\"\"Compute the final profit after the expeditions.\n",
    "\n",
    "    Parameters\n",
    "    ----------\n",
    "    mults : list of int\n",
    "        Multipliers for each destination.\n",
    "    hunts : list of int\n",
    "        Hunters for each destination.\n",
    "    shares : list of int\n",
    "        Shares for each destination.\n",
    "    \n",
    "    Returns\n",
    "    -------\n",
    "    float\n",
    "        Profit.\n",
    "    \"\"\"\n",
    "    return 10000 * sum([mult/(hunt + 100*share) for (mult, hunt, share) in zip(mults, hunts, shares)]) + fee(len(mults))\n",
    "\n",
    "def maximize_prior_top(shares, k):\n",
    "    \"\"\"Given the prior, compute solutions that yield top k profits.\n",
    "\n",
    "    Parameters\n",
    "    ----------\n",
    "    shares : list of int\n",
    "        Shares for each destination.\n",
    "    k : int\n",
    "        Number of solutions\n",
    "    \n",
    "    Returns\n",
    "    -------\n",
    "    list of tuple\n",
    "        Top k profits and optimal expeditions.\n",
    "    \"\"\"\n",
    "    datas = [(mult, hunt, share) for ((mult, hunt), share) in zip(arr.reshape((-1, 2)), shares.reshape(-1))]\n",
    "    print(datas)\n",
    "    heap = []\n",
    "    iterables = [itertools.combinations(datas, n_exp) for n_exp in range(1, 3)]\n",
    "    for (i, data) in enumerate(itertools.chain.from_iterable(iterables)):\n",
    "        mults = [tupl[0] for tupl in data]\n",
    "        hunts = [tupl[1] for tupl in data]\n",
    "        shares = [tupl[-1] for tupl in data]\n",
    "        val = payoff(mults, hunts, shares)\n",
    "        expeditions = list(zip(mults, hunts))\n",
    "        if i < k:\n",
    "            heapq.heappush(heap, (val, expeditions))\n",
    "        elif val > heap[0][0]:\n",
    "            heapq.heappop(heap)\n",
    "            heapq.heappush(heap, (val, expeditions))\n",
    "    return sorted(heap, reverse=True)"
   ]
  },
  {
   "cell_type": "code",
   "execution_count": 24,
   "id": "fab29a8f",
   "metadata": {},
   "outputs": [
    {
     "name": "stdout",
     "output_type": "stream",
     "text": [
      "[(np.int64(10), np.int64(1), np.float64(0.1)), (np.int64(80), np.int64(6), np.float64(0.1)), (np.int64(37), np.int64(3), np.float64(0.1)), (np.int64(17), np.int64(1), np.float64(0.1)), (np.int64(90), np.int64(10), np.float64(0.1)), (np.int64(31), np.int64(2), np.float64(0.1)), (np.int64(50), np.int64(4), np.float64(0.1)), (np.int64(20), np.int64(2), np.float64(0.1)), (np.int64(73), np.int64(4), np.float64(0.1)), (np.int64(89), np.int64(8), np.float64(0.1))]\n",
      "Exponent: 0 Profit: 52142.00 Optimal expeditions: [(80, 6), (73, 4)]\n",
      "[(np.int64(10), np.int64(1), np.float64(0.017299829010239777)), (np.int64(80), np.int64(6), np.float64(0.07290133706372649)), (np.int64(37), np.int64(3), np.float64(0.04936784357997613)), (np.int64(17), np.int64(1), np.float64(0.24563283318992019)), (np.int64(90), np.int64(10), np.float64(0.010215376032256486)), (np.int64(31), np.int64(2), np.float64(0.15477481781510471)), (np.int64(50), np.int64(4), np.float64(0.052794888336913384)), (np.int64(20), np.int64(2), np.float64(0.017299829010239777)), (np.int64(73), np.int64(4), np.float64(0.3502322664539589)), (np.int64(89), np.int64(8), np.float64(0.029480979507664106))]\n",
      "Exponent: 1 Profit: 112950.00 Optimal expeditions: [(90, 10), (89, 8)]\n",
      "[(np.int64(10), np.int64(1), np.float64(0.0013661915383998203)), (np.int64(80), np.int64(6), np.float64(0.024260455868331907)), (np.int64(37), np.int64(3), np.float64(0.011125416656131145)), (np.int64(17), np.int64(1), np.float64(0.27542338082590734)), (np.int64(90), np.int64(10), np.float64(0.0004763615344870686)), (np.int64(31), np.int64(2), np.float64(0.10935246389710057)), (np.int64(50), np.int64(4), np.float64(0.01272365020960402)), (np.int64(20), np.int64(2), np.float64(0.0013661915383998203)), (np.int64(73), np.int64(4), np.float64(0.559938434958411)), (np.int64(89), np.int64(8), np.float64(0.003967452973227281))]\n",
      "Exponent: 2 Profit: 150937.00 Optimal expeditions: [(80, 6), (89, 8)]\n",
      "[(np.int64(10), np.int64(1), np.float64(8.32667825037495e-05)), (np.int64(80), np.int64(6), np.float64(0.006230929430665858)), (np.int64(37), np.int64(3), np.float64(0.0019349904400544795)), (np.int64(17), np.int64(1), np.float64(0.23834475766378677)), (np.int64(90), np.int64(10), np.float64(1.7143892115575896e-05)), (np.int64(31), np.int64(2), np.float64(0.05962758992518405)), (np.int64(50), np.int64(4), np.float64(0.0023665842975262165)), (np.int64(20), np.int64(2), np.float64(8.32667825037495e-05)), (np.int64(73), np.int64(4), np.float64(0.6908993997603359)), (np.int64(89), np.int64(8), np.float64(0.0004120710253237026))]\n",
      "Exponent: 3 Profit: 188807.00 Optimal expeditions: [(80, 6), (50, 4)]\n",
      "[(np.int64(10), np.int64(1), np.float64(4.640201714341969e-06)), (np.int64(80), np.int64(6), np.float64(0.0014632266160998953)), (np.int64(37), np.int64(3), np.float64(0.00030771328539589104)), (np.int64(17), np.int64(1), np.float64(0.1885885354060854)), (np.int64(90), np.int64(10), np.float64(5.64140201055121e-07)), (np.int64(31), np.int64(2), np.float64(0.029728351244974176)), (np.int64(50), np.int64(4), np.float64(0.000402473342356842)), (np.int64(20), np.int64(2), np.float64(4.640201714341969e-06)), (np.int64(73), np.int64(4), np.float64(0.7794607230921538)), (np.int64(89), np.int64(8), np.float64(3.9132469304349726e-05))]\n",
      "Exponent: 4 Profit: 203913.00 Optimal expeditions: [(80, 6), (50, 4)]\n",
      "[(np.int64(10), np.int64(1), np.float64(2.477144166223371e-07)), (np.int64(80), np.int64(6), np.float64(0.00032916958341032356)), (np.int64(37), np.int64(3), np.float64(4.687734606001636e-05)), (np.int64(17), np.int64(1), np.float64(0.14294676029947512)), (np.int64(90), np.int64(10), np.float64(1.77833681215437e-08)), (np.int64(31), np.int64(2), np.float64(0.01419854155678097)), (np.int64(50), np.int64(4), np.float64(6.556946012156182e-05)), (np.int64(20), np.int64(2), np.float64(2.477144166223371e-07)), (np.int64(73), np.int64(4), np.float64(0.8424090085273924)), (np.int64(89), np.int64(8), np.float64(3.560014558148835e-06))]\n",
      "Exponent: 5 Profit: 207401.00 Optimal expeditions: [(80, 6), (50, 4)]\n",
      "[(np.int64(10), np.int64(1), np.float64(1.2893176023212508e-08)), (np.int64(80), np.int64(6), np.float64(7.219747518319387e-05)), (np.int64(37), np.int64(3), np.float64(6.962640826207364e-06)), (np.int64(17), np.int64(1), np.float64(0.1056397958430884)), (np.int64(90), np.int64(10), np.float64(5.46556665470224e-10)), (np.int64(31), np.int64(2), np.float64(0.0066116652492998595)), (np.int64(50), np.int64(4), np.float64(1.041502464905755e-05)), (np.int64(20), np.int64(2), np.float64(1.2893176023212508e-08)), (np.int64(73), np.int64(4), np.float64(0.8876586216715812)), (np.int64(89), np.int64(8), np.float64(3.157624633630414e-07))]\n",
      "Exponent: 6 Profit: 208140.00 Optimal expeditions: [(80, 6), (50, 4)]\n",
      "[(np.int64(10), np.int64(1), np.float64(6.601745856407263e-10)), (np.int64(80), np.int64(6), np.float64(1.5578103424065843e-05)), (np.int64(37), np.int64(3), np.float64(1.0173613362178886e-06)), (np.int64(17), np.int64(1), np.float64(0.07680173829660591)), (np.int64(90), np.int64(10), np.float64(1.6525196483032163e-11)), (np.int64(31), np.int64(2), np.float64(0.003028783547328731)), (np.int64(50), np.int64(4), np.float64(1.6274560038514056e-06)), (np.int64(20), np.int64(2), np.float64(6.601745856407263e-10)), (np.int64(73), np.int64(4), np.float64(0.9201512263460234)), (np.int64(89), np.int64(8), np.float64(2.7552403462040816e-08))]\n",
      "Exponent: 7 Profit: 217912.00 Optimal expeditions: [(80, 6), (31, 2)]\n",
      "[(np.int64(10), np.int64(1), np.float64(3.3433400481822024e-11)), (np.int64(80), np.int64(6), np.float64(3.3245281518978543e-06)), (np.int64(37), np.int64(3), np.float64(1.4702775449238562e-07)), (np.int64(17), np.int64(1), np.float64(0.055225213774254836)), (np.int64(90), np.int64(10), np.float64(4.941751788559142e-13)), (np.int64(31), np.int64(2), np.float64(0.0013722981484028097)), (np.int64(50), np.int64(4), np.float64(2.5152494972902995e-07)), (np.int64(20), np.int64(2), np.float64(3.3433400481822024e-11)), (np.int64(73), np.int64(4), np.float64(0.9433987625512923)), (np.int64(89), np.int64(8), np.float64(2.377832927129777e-09))]\n",
      "Exponent: 8 Profit: 228373.00 Optimal expeditions: [(80, 6), (31, 2)]\n",
      "[(np.int64(10), np.int64(1), np.float64(1.680461486711289e-12)), (np.int64(80), np.int64(6), np.float64(7.041605833614391e-07)), (np.int64(37), np.int64(3), np.float64(2.108869395540289e-08)), (np.int64(17), np.int64(1), np.float64(0.03941214080181216)), (np.int64(90), np.int64(10), np.float64(1.4667006633590645e-14)), (np.int64(31), np.int64(2), np.float64(0.0006170991970147265)), (np.int64(50), np.int64(4), np.float64(3.85815036016317e-08)), (np.int64(20), np.int64(2), np.float64(1.680461486711289e-12)), (np.int64(73), np.int64(4), np.float64(0.9599699959633455)), (np.int64(89), np.int64(8), np.float64(2.0367111831522464e-10))]\n",
      "Exponent: 9 Profit: 233692.00 Optimal expeditions: [(80, 6), (31, 2)]\n"
     ]
    }
   ],
   "source": [
    "for i in range(10):\n",
    "    shares = ratios**i\n",
    "    shares = shares / np.sum(shares)\n",
    "    res = maximize_prior_top(shares, 1)\n",
    "    \n",
    "    # convert res values to int\n",
    "    res = [(int(x[0]), [(int(y[0]), int(y[1])) for y in x[1]]) for x in res]\n",
    "    print(\"Exponent:\", i, \"Profit:\", f\"{res[0][0]:.2f}\", \"Optimal expeditions:\", res[0][1])"
   ]
  }
 ],
 "metadata": {
  "kernelspec": {
   "display_name": "imc-prosperity3",
   "language": "python",
   "name": "python3"
  },
  "language_info": {
   "codemirror_mode": {
    "name": "ipython",
    "version": 3
   },
   "file_extension": ".py",
   "mimetype": "text/x-python",
   "name": "python",
   "nbconvert_exporter": "python",
   "pygments_lexer": "ipython3",
   "version": "3.12.8"
  }
 },
 "nbformat": 4,
 "nbformat_minor": 5
}
