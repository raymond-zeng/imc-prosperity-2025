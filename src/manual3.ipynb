{
 "cells": [
  {
   "cell_type": "markdown",
   "id": "78b22d42",
   "metadata": {},
   "source": [
    "### Imports"
   ]
  },
  {
   "cell_type": "code",
   "execution_count": 1,
   "id": "b72af76d",
   "metadata": {},
   "outputs": [],
   "source": [
    "import numpy as np\n",
    "import tqdm\n",
    "import matplotlib.pyplot as plt\n",
    "# from jaxtyping import Float"
   ]
  },
  {
   "cell_type": "markdown",
   "id": "af93d698",
   "metadata": {},
   "source": [
    "### Problem Statement"
   ]
  },
  {
   "cell_type": "markdown",
   "id": "9529c708",
   "metadata": {},
   "source": [
    "A big group of Sea Turtles is visiting our shores, bringing with them an opportunity to acquire some top grade `FLIPPERS`. You only have two chances to offer a good price. Each one of the Sea Turtles will accept the lowest bid that is over their reserve price. \n",
    "\n",
    "The distribution of reserve prices is uniform between 160–200 and 250–320, but none of the Sea Turtles will trade between 200 and 250 due to some ancient superstition.\n",
    "\n",
    "For your second bid, they also take into account the average of the second bids by other traders in the archipelago. They’ll trade with you when your offer is above the average of all second bids. But if you end up under the average, the probability of a deal decreases rapidly. \n",
    "\n",
    "To simulate this probability, the PNL obtained from trading with a fish for which your second bid is under the average of all second bids will be scaled by a factor *p*:\n",
    "\n",
    "$$\n",
    "p = \\left(\\frac{320 – \\text{average bid}}{320 – \\text{your bid}}\\right)^3\n",
    "$$\n",
    "\n",
    "You know there’s a constant desire for Flippers on the archipelago. So, at the end of the round, you’ll be able to sell them for 320 SeaShells ****a piece.\n",
    "\n",
    "Think hard about how you want to set your two bids, place your feet firmly in the sand and brace yourself, because this could get messy."
   ]
  },
  {
   "cell_type": "markdown",
   "id": "34aacca7",
   "metadata": {},
   "source": [
    "### Solution"
   ]
  },
  {
   "cell_type": "markdown",
   "id": "87b795a8",
   "metadata": {},
   "source": [
    "First, we determine the probability multiplier for below average second bids."
   ]
  },
  {
   "cell_type": "code",
   "execution_count": 2,
   "id": "51841aca",
   "metadata": {},
   "outputs": [],
   "source": [
    "def second_bid_scaler(\n",
    "    bid: int,\n",
    "    average_second_bid: int = 320,\n",
    "    optimal_opponents: bool = True,\n",
    ") -> float:\n",
    "    \"\"\"\n",
    "    This function calculates the second bid scaling factor based on the average second bid and the number of opponents.\n",
    "    \n",
    "    :param average_second_bid: The average second bid amount.\n",
    "    :param optimal_opponents: A boolean indicating whether the opponents are optimal.\n",
    "    :return: The scaling factor for the second bid.\n",
    "    \"\"\"\n",
    "    if optimal_opponents:\n",
    "        return 1.0\n",
    "    else:\n",
    "        if bid >= average_second_bid:\n",
    "            return 1.0\n",
    "        else:\n",
    "            return np.power((320 - average_second_bid) / (320 - bid), 3)"
   ]
  },
  {
   "cell_type": "markdown",
   "id": "538d285b",
   "metadata": {},
   "source": [
    "To begin with, we optimize assuming all other agents also choose the optimal second bid, i.e. our second bid is exactly the average and everyone has the same second bid. In this case, given $n$ turtles to trade with, each with reserve price $R_1, \\ldots, R_n\\overset{\\text{iid}}{\\sim} \\text{Unif}([160, 200] \\cup [250, 320])$. Let our first and second bids be $p_1$ and $p_2$, respectively. We seek to find a solution to the following objective\n",
    "$$\\max_{p_1, p_2} \\sum_{i=1}^n \\left[(320 - p_1) \\cdot 1_{R_i\\leq p_1} + (320-p_2) \\cdot 1_{p_1 < R_i \\leq p_2}\\right].$$ \n",
    "Since $n$ is large, the above is equivalent to\n",
    "\\begin{align*}\n",
    "    \\max_{p_1, p_2} &\\left[(320 - p_1) \\mathbb{P}(R \\leq p_1) + (320-p_2)\\mathbb{P}(p_1 < R\\leq p_2)\\right], \\\\\n",
    "    \\text{subject to } & 160 \\leq p_1 \\leq p_2 \\leq 320, \\\\\n",
    "    & p_1, p_2\\in \\mathbb{N}.\n",
    "\\end{align*}\n",
    "The pdf of $R$ is given by\n",
    "$$f_R(r) = \\begin{cases} 1/110 & \\text{ if } r\\in [160, 200] \\cup [250, 320], \\\\ 0 & \\text{ otherwise.}\\end{cases}$$\n",
    "We may then rewrite our objective function as\n",
    "$$\\max_{p_1, p_2} \\left[(320 - p_1)\\int_{160}^{p_1} f_R(r) dr + (320-p_2)\\int_{p_1}^{p_2} f_R(r)dr\\right].$$\n",
    "We proceed by testing every possible pair $(p_1, p_2)$ satisfying the constraints by Monte Carlo and analytic methods."
   ]
  },
  {
   "cell_type": "code",
   "execution_count": 3,
   "id": "efae5a02",
   "metadata": {},
   "outputs": [],
   "source": [
    "def objective_fn(\n",
    "    bid1: int,\n",
    "    bid2: int,\n",
    "    monte_carlo: bool,\n",
    "    num_simulations: int = 500000,\n",
    ") -> float:\n",
    "    \"\"\"\n",
    "    This function calculates the objective function value based on the bids.\n",
    "    \n",
    "    :param bid1: The first bid amount.\n",
    "    :param bid2: The second bid amount.\n",
    "    :return: The objective function value.\n",
    "    \"\"\"\n",
    "\n",
    "    if monte_carlo:\n",
    "        probs = np.random.rand(num_simulations)\n",
    "\n",
    "        r1 = np.random.uniform(160, 200, size=num_simulations)\n",
    "        r2 = np.random.uniform(250, 320, size=num_simulations)\n",
    "\n",
    "        p = 40 / 110\n",
    "\n",
    "        reserves = np.where(probs < p, r1, r2)\n",
    "        objectives = np.where(bid1 >= reserves, 320 - bid1,\n",
    "                    np.where(bid2 >= reserves, 320 - bid2, 0))\n",
    "        \n",
    "        return np.mean(objectives)\n",
    "    \n",
    "    else:\n",
    "\n",
    "        if bid1 <= 200 and bid2 < 200:\n",
    "            return (320 - bid1) * (bid1 - 160) / 110 + (320 - bid2) * (bid2 - bid1) / 110\n",
    "        elif bid1 <= 200 and bid2 >= 250:\n",
    "            return (320 - bid1) * (bid1 - 160) / 110 + (320 - bid2) * (bid2 - bid1 - 50) / 110\n",
    "        elif bid1 >= 250 and bid2 >= 250:\n",
    "            return (320 - bid1) * (bid1 - 210) / 110 + (320 - bid2) * (bid2 - bid1) / 110\n",
    "        else:\n",
    "            return 0\n",
    "\n",
    "\n",
    "def get_optimal_bids(monte_carlo: bool = True):\n",
    "    \"\"\"\n",
    "    This function calculates the optimal bids for the first and second bidders.\n",
    "    \n",
    "    :return: A tuple containing the optimal bids for the first and second bidders.\n",
    "    \"\"\"\n",
    "\n",
    "    argmax = []\n",
    "    objective_opt = -np.inf\n",
    "\n",
    "    pbar = tqdm.tqdm(range(160, 321))\n",
    "\n",
    "    for bid1 in pbar:\n",
    "        for bid2 in range(bid1, 321):\n",
    "            objective = objective_fn(bid1, bid2, monte_carlo=monte_carlo)\n",
    "            # if np.isclose(objective, objective_opt):\n",
    "            #     argmax.append((bid1, bid2))\n",
    "            # elif objective > objective_opt:\n",
    "            #     objective_opt = objective\n",
    "            #     argmax = [(bid1, bid2)]\n",
    "\n",
    "            if objective > objective_opt:\n",
    "                objective_opt = objective\n",
    "                argmax = [(bid1, bid2)]\n",
    "                \n",
    "    return argmax, objective_opt"
   ]
  },
  {
   "cell_type": "markdown",
   "id": "6372d00a",
   "metadata": {},
   "source": [
    "#### Monte Carlo"
   ]
  },
  {
   "cell_type": "code",
   "execution_count": 4,
   "id": "3a438051",
   "metadata": {},
   "outputs": [
    {
     "name": "stderr",
     "output_type": "stream",
     "text": [
      "100%|██████████| 161/161 [02:01<00:00,  1.33it/s]"
     ]
    },
    {
     "name": "stdout",
     "output_type": "stream",
     "text": [
      "Optimal bids: [(200, 287)], Objective value: 54.848892\n"
     ]
    },
    {
     "name": "stderr",
     "output_type": "stream",
     "text": [
      "\n"
     ]
    }
   ],
   "source": [
    "np.random.seed(0)\n",
    "argmax, objective_opt = get_optimal_bids(monte_carlo=True)\n",
    "print(f\"Optimal bids: {argmax}, Objective value: {objective_opt}\")"
   ]
  },
  {
   "cell_type": "markdown",
   "id": "9b197af0",
   "metadata": {},
   "source": [
    "#### Analytic"
   ]
  },
  {
   "cell_type": "code",
   "execution_count": 5,
   "id": "e09f0d54",
   "metadata": {},
   "outputs": [
    {
     "name": "stderr",
     "output_type": "stream",
     "text": [
      "100%|██████████| 161/161 [00:00<00:00, 80180.83it/s]"
     ]
    },
    {
     "name": "stdout",
     "output_type": "stream",
     "text": [
      "Optimal bids: [(200, 285)], Objective value: 54.772727272727266\n"
     ]
    },
    {
     "name": "stderr",
     "output_type": "stream",
     "text": [
      "\n"
     ]
    }
   ],
   "source": [
    "argmax, objective_opt = get_optimal_bids(monte_carlo=False)\n",
    "print(f\"Optimal bids: {argmax}, Objective value: {objective_opt}\")"
   ]
  }
 ],
 "metadata": {
  "kernelspec": {
   "display_name": "imc-prosperity3",
   "language": "python",
   "name": "python3"
  },
  "language_info": {
   "codemirror_mode": {
    "name": "ipython",
    "version": 3
   },
   "file_extension": ".py",
   "mimetype": "text/x-python",
   "name": "python",
   "nbconvert_exporter": "python",
   "pygments_lexer": "ipython3",
   "version": "3.12.8"
  }
 },
 "nbformat": 4,
 "nbformat_minor": 5
}
