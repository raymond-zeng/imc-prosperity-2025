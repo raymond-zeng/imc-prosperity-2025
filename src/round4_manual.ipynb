{
 "cells": [
  {
   "cell_type": "code",
   "execution_count": 1,
   "id": "327d6f02",
   "metadata": {},
   "outputs": [],
   "source": [
    "import numpy as np\n",
    "import itertools\n",
    "#\n",
    "from wolframclient.evaluation import WolframLanguageSession\n",
    "from wolframclient.language import wl, wlexpr\n",
    "# from WolframClientForPython.wolframclient.evaluation import WolframAlphaSession\n",
    "import heapq\n",
    "import pandas as pd\n",
    "import math"
   ]
  },
  {
   "cell_type": "code",
   "execution_count": 2,
   "id": "2ac2fd86",
   "metadata": {},
   "outputs": [
    {
     "name": "stdout",
     "output_type": "stream",
     "text": [
      "arr shape: (4, 5, 2)\n"
     ]
    }
   ],
   "source": [
    "arr = np.array([[(80, 6), (50, 4), (83, 7), (31, 2), (60, 4)],\n",
    "                [(89, 8), (10, 1), (37, 3), (70, 4), (90, 10)],\n",
    "                [(17, 1), (40, 3), (73, 4), (100, 15), (20, 2)],\n",
    "                [(41, 3), (79, 5), (23, 2), (47, 3), (30, 2)]])\n",
    "\n",
    "print(f\"arr shape: {arr.shape}\")"
   ]
  },
  {
   "cell_type": "code",
   "execution_count": 3,
   "id": "38296441",
   "metadata": {},
   "outputs": [
    {
     "name": "stdout",
     "output_type": "stream",
     "text": [
      "[[0.1   0.06  0.096 0.042 0.08 ]\n",
      " [0.098 0.01  0.044 0.1   0.08 ]\n",
      " [0.024 0.05  0.106 0.05  0.02 ]\n",
      " [0.052 0.108 0.026 0.064 0.04 ]]\n"
     ]
    }
   ],
   "source": [
    "thresh = np.zeros(arr.shape[:2])\n",
    "for i in range(arr.shape[0]):\n",
    "    for j in range(arr.shape[1]):\n",
    "        mult, inhabitants = arr[i, j]\n",
    "        thresh[i, j] = (mult - 5 * inhabitants) / 500\n",
    "with np.printoptions(precision=3, suppress=True):\n",
    "    print(thresh)"
   ]
  },
  {
   "cell_type": "code",
   "execution_count": 4,
   "id": "28280a6a",
   "metadata": {},
   "outputs": [
    {
     "name": "stdout",
     "output_type": "stream",
     "text": [
      "[[ 0.02   0.01   0.013  0.011  0.02 ]\n",
      " [ 0.009  0.     0.007  0.03  -0.01 ]\n",
      " [ 0.007  0.01   0.033 -0.05   0.   ]\n",
      " [ 0.011  0.029  0.003  0.017  0.01 ]]\n"
     ]
    }
   ],
   "source": [
    "thresh = np.zeros(arr.shape[:2])\n",
    "for i in range(arr.shape[0]):\n",
    "    for j in range(arr.shape[1]):\n",
    "        mult, inhabitants = arr[i, j]\n",
    "        thresh[i, j] = (mult - 10 * inhabitants) / 1000\n",
    "with np.printoptions(precision=3, suppress=True):\n",
    "    print(thresh)"
   ]
  },
  {
   "cell_type": "code",
   "execution_count": null,
   "id": "a548a115",
   "metadata": {},
   "outputs": [],
   "source": [
    "def maximin1():\n",
    "    \"\"\"Solves the maximin optimization problem for a single expedition.\n",
    "\n",
    "    Parameters\n",
    "    ----------\n",
    "    \n",
    "    Returns\n",
    "    -------\n",
    "    argmax : list of tuple\n",
    "        Maximizers.\n",
    "    max_val : float\n",
    "        Maximal profit.\n",
    "        \n",
    "    \"\"\"\n",
    "    max_val = float('-inf')\n",
    "    argmax = []\n",
    "    for mult, inhabitants in arr.reshape(-1, 2):\n",
    "        val = mult / (inhabitants + 100) * 10000\n",
    "        if math.isclose(val, max_val):\n",
    "            argmax.append((mult, inhabitants))\n",
    "        elif val > max_val:\n",
    "            argmax = [(mult, inhabitants)]\n",
    "            max_val = val\n",
    "    return (argmax, max_val)"
   ]
  },
  {
   "cell_type": "code",
   "execution_count": 6,
   "id": "aa2f3676",
   "metadata": {},
   "outputs": [
    {
     "data": {
      "text/plain": [
       "([(np.int64(100), np.int64(15))], np.float64(8695.652173913044))"
      ]
     },
     "execution_count": 6,
     "metadata": {},
     "output_type": "execute_result"
    }
   ],
   "source": [
    "maximin1()"
   ]
  },
  {
   "cell_type": "code",
   "execution_count": 7,
   "id": "6e6db4a1",
   "metadata": {},
   "outputs": [],
   "source": [
    "session = WolframLanguageSession(kernel=\"/Applications/Wolfram Engine.app/Contents/MacOS/WolframKernel\")\n",
    "\n",
    "def maximize2():\n",
    "    \"\"\"Solves the maximin optimization problem for two expeditions. Returns only one solution, there may be other.\n",
    "\n",
    "    Parameters\n",
    "    ----------\n",
    "    \n",
    "    Returns\n",
    "    -------\n",
    "    argmax1 : tuple\n",
    "        First expedition.\n",
    "    argmax2 : tuple\n",
    "        Second expedition.\n",
    "    max_val : float\n",
    "        Maximal profit.\n",
    "        \n",
    "    \"\"\"\n",
    "    max_val = float('-inf')\n",
    "    max_mult1, max_hunt1 = None, None\n",
    "    max_mult2, max_hunt2 = None, None\n",
    "    for (mult1, hunt1), (mult2, hunt2) in itertools.combinations(arr.reshape((-1, 2)), 2):\n",
    "        val_temp = session.evaluate(wlexpr(f'NMinimize[{{{mult1}/({hunt1} + 100*p1) + {mult2}/({hunt2} + 100*p2), 0 <= p1, 0 <= p2, p1 + p2 <= 1}}, {{p1, p2}}]'))[0]\n",
    "        val = -50000 + val_temp * 10000\n",
    "        if math.isclose(val, max_val):\n",
    "            print(\"collision\")\n",
    "        if val > max_val:\n",
    "            max_mult1, max_hunt1 = mult1, hunt1\n",
    "            max_mult2, max_hunt2 = mult2, hunt2\n",
    "            max_val = val\n",
    "    return ((max_mult1, max_hunt1), (max_mult2, max_hunt2), max_val)"
   ]
  },
  {
   "cell_type": "code",
   "execution_count": 9,
   "id": "ab76ebc2",
   "metadata": {},
   "outputs": [
    {
     "data": {
      "text/plain": [
       "((np.int64(89), np.int64(8)), (np.int64(100), np.int64(15)), -19294.3398722117)"
      ]
     },
     "execution_count": 9,
     "metadata": {},
     "output_type": "execute_result"
    }
   ],
   "source": [
    "maximize2()"
   ]
  },
  {
   "cell_type": "code",
   "execution_count": 12,
   "id": "b3c8c592",
   "metadata": {},
   "outputs": [],
   "source": [
    "def maximize3():\n",
    "    \"\"\"Solves the maximin optimization problem for three expeditions. Returns only one solution, there may be other.\n",
    "\n",
    "    Parameters\n",
    "    ----------\n",
    "    \n",
    "    Returns\n",
    "    -------\n",
    "    argmax1 : tuple\n",
    "        First expedition.\n",
    "    argmax2 : tuple\n",
    "        Second expedition.\n",
    "    argmax3 : tuple\n",
    "        Third expedition.\n",
    "    max_val : float\n",
    "        Maximal profit.\n",
    "        \n",
    "    \"\"\"\n",
    "    max_val = float('-inf')\n",
    "    max_mult1, max_hunt1 = None, None\n",
    "    max_mult2, max_hunt2 = None, None\n",
    "    max_mult3, max_hunt3 = None, None\n",
    "    for (mult1, hunt1), (mult2, hunt2), (mult3, hunt3) in itertools.combinations(arr.reshape((-1, 2)), 3):\n",
    "        val_temp = session.evaluate(wlexpr(f'NMinimize[{{{mult1}/({hunt1} + 100*p1) + {mult2}/({hunt2} + 100*p2) + {mult3}/({hunt3} + 100*p3), 0<=p1, 0<=p2, 0<=p3, p1+p2+p3 <= 1}}, {{p1,p2,p3}}]'))[0]\n",
    "        val = -100000 + val_temp * 10000\n",
    "        if math.isclose(val, max_val):\n",
    "            print(\"collision\")\n",
    "        if val > max_val:\n",
    "            max_mult1, max_hunt1 = mult1, hunt1\n",
    "            max_mult2, max_hunt2 = mult2, hunt2\n",
    "            max_mult3, max_hunt3 = mult3, hunt3\n",
    "            max_val = val\n",
    "    return ((max_mult1, max_hunt1), (max_mult2, max_hunt2), (max_mult3, max_hunt3), max_val)"
   ]
  },
  {
   "cell_type": "code",
   "execution_count": 13,
   "id": "c94e82a0",
   "metadata": {},
   "outputs": [
    {
     "data": {
      "text/plain": [
       "((np.int64(89), np.int64(8)),\n",
       " (np.int64(90), np.int64(10)),\n",
       " (np.int64(100), np.int64(15)),\n",
       " -37111.68448500797)"
      ]
     },
     "execution_count": 13,
     "metadata": {},
     "output_type": "execute_result"
    }
   ],
   "source": [
    "maximize3()"
   ]
  },
  {
   "cell_type": "code",
   "execution_count": 14,
   "id": "5c8de662",
   "metadata": {},
   "outputs": [
    {
     "name": "stdout",
     "output_type": "stream",
     "text": [
      "Ratios:\n",
      "[[13.33 12.5  11.86 15.5  15.  ]\n",
      " [11.12 10.   12.33 17.5   9.  ]\n",
      " [17.   13.33 18.25  6.67 10.  ]\n",
      " [13.67 15.8  11.5  15.67 15.  ]]\n"
     ]
    }
   ],
   "source": [
    "ratios = np.zeros(arr.shape[:2])\n",
    "for i in range(arr.shape[0]):\n",
    "    for j in range(arr.shape[1]):\n",
    "        mult, hunt = arr[i, j]\n",
    "        ratios[i, j] = mult/hunt\n",
    "with np.printoptions(precision=2, suppress=True):\n",
    "    print(\"Ratios:\", ratios, sep='\\n')"
   ]
  },
  {
   "cell_type": "code",
   "execution_count": 15,
   "id": "187e4803",
   "metadata": {},
   "outputs": [
    {
     "name": "stdout",
     "output_type": "stream",
     "text": [
      "Natural prior:\n",
      "[[0.05  0.047 0.045 0.058 0.057]\n",
      " [0.042 0.038 0.047 0.066 0.034]\n",
      " [0.064 0.05  0.069 0.025 0.038]\n",
      " [0.052 0.06  0.043 0.059 0.057]]\n"
     ]
    }
   ],
   "source": [
    "shares = ratios / np.sum(ratios)\n",
    "with np.printoptions(precision=3, suppress=True):\n",
    "    print(\"Natural prior:\", shares, sep='\\n')"
   ]
  },
  {
   "cell_type": "code",
   "execution_count": 16,
   "id": "8305836c",
   "metadata": {},
   "outputs": [
    {
     "name": "stdout",
     "output_type": "stream",
     "text": [
      "Natural prior with exponent 5:\n",
      "[[0.034 0.025 0.019 0.073 0.062]\n",
      " [0.014 0.008 0.023 0.134 0.005]\n",
      " [0.116 0.034 0.166 0.001 0.008]\n",
      " [0.039 0.081 0.016 0.077 0.062]]\n"
     ]
    }
   ],
   "source": [
    "ratios = np.zeros(arr.shape[:2])\n",
    "for i in range(arr.shape[0]):\n",
    "    for j in range(arr.shape[1]):\n",
    "        mult, hunt = arr[i, j]\n",
    "        ratios[i, j] = mult/hunt\n",
    "ratios = ratios**5\n",
    "shares = ratios / np.sum(ratios)\n",
    "with np.printoptions(precision=3, suppress=True):\n",
    "    print(\"Natural prior with exponent 5:\", shares, sep='\\n')"
   ]
  },
  {
   "cell_type": "code",
   "execution_count": 19,
   "id": "ef75a450",
   "metadata": {},
   "outputs": [],
   "source": [
    "def fee(n):\n",
    "    \"\"\"Compute the fee for a total of n expeditions.\n",
    "\n",
    "    Parameters\n",
    "    ----------\n",
    "    n : int\n",
    "        Number of expeditions.\n",
    "    \n",
    "    Returns\n",
    "    -------\n",
    "    float\n",
    "        Fee.\n",
    "    \"\"\"\n",
    "    if n == 1:\n",
    "        return 0\n",
    "    if n == 2:\n",
    "        return -50000\n",
    "    if n == 3:\n",
    "        return -150000\n",
    "\n",
    "def payoff(mults, hunts, shares):\n",
    "    \"\"\"Compute the final profit after the expeditions.\n",
    "\n",
    "    Parameters\n",
    "    ----------\n",
    "    mults : list of int\n",
    "        Multipliers for each destination.\n",
    "    hunts : list of int\n",
    "        Hunters for each destination.\n",
    "    shares : list of int\n",
    "        Shares for each destination.\n",
    "    \n",
    "    Returns\n",
    "    -------\n",
    "    float\n",
    "        Profit.\n",
    "    \"\"\"\n",
    "    return 10000 * sum([mult/(hunt + 100*share) for (mult, hunt, share) in zip(mults, hunts, shares)]) + fee(len(mults))\n",
    "\n",
    "def maximize_prior_top(shares, k):\n",
    "    \"\"\"Given the prior, compute solutions that yield top k profits.\n",
    "\n",
    "    Parameters\n",
    "    ----------\n",
    "    shares : list of int\n",
    "        Shares for each destination.\n",
    "    k : int\n",
    "        Number of solutions\n",
    "    \n",
    "    Returns\n",
    "    -------\n",
    "    list of tuple\n",
    "        Top k profits and optimal expeditions.\n",
    "    \"\"\"\n",
    "    datas = [(mult, hunt, share) for ((mult, hunt), share) in zip(arr.reshape((-1, 2)), shares.reshape(-1))]\n",
    "    print(datas)\n",
    "    heap = []\n",
    "    iterables = [itertools.combinations(datas, n_exp) for n_exp in range(1, 4)]\n",
    "    for (i, data) in enumerate(itertools.chain.from_iterable(iterables)):\n",
    "        mults = [tupl[0] for tupl in data]\n",
    "        hunts = [tupl[1] for tupl in data]\n",
    "        shares = [tupl[-1] for tupl in data]\n",
    "        val = payoff(mults, hunts, shares)\n",
    "        expeditions = list(zip(mults, hunts))\n",
    "        if i < k:\n",
    "            heapq.heappush(heap, (val, expeditions))\n",
    "        elif val > heap[0][0]:\n",
    "            heapq.heappop(heap)\n",
    "            heapq.heappush(heap, (val, expeditions))\n",
    "    return sorted(heap, reverse=True)"
   ]
  },
  {
   "cell_type": "code",
   "execution_count": 20,
   "id": "afd05eb1",
   "metadata": {},
   "outputs": [
    {
     "name": "stdout",
     "output_type": "stream",
     "text": [
      "[(np.int64(80), np.int64(6), np.float64(0.05)), (np.int64(50), np.int64(4), np.float64(0.05)), (np.int64(83), np.int64(7), np.float64(0.05)), (np.int64(31), np.int64(2), np.float64(0.05)), (np.int64(60), np.int64(4), np.float64(0.05)), (np.int64(89), np.int64(8), np.float64(0.05)), (np.int64(10), np.int64(1), np.float64(0.05)), (np.int64(37), np.int64(3), np.float64(0.05)), (np.int64(70), np.int64(4), np.float64(0.05)), (np.int64(90), np.int64(10), np.float64(0.05)), (np.int64(17), np.int64(1), np.float64(0.05)), (np.int64(40), np.int64(3), np.float64(0.05)), (np.int64(73), np.int64(4), np.float64(0.05)), (np.int64(100), np.int64(15), np.float64(0.05)), (np.int64(20), np.int64(2), np.float64(0.05)), (np.int64(41), np.int64(3), np.float64(0.05)), (np.int64(79), np.int64(5), np.float64(0.05)), (np.int64(23), np.int64(2), np.float64(0.05)), (np.int64(47), np.int64(3), np.float64(0.05)), (np.int64(30), np.int64(2), np.float64(0.05))]\n",
      "Exponent: 0 Profit: 110111.00 Optimal expeditions: [(73, 4), (79, 5)]\n",
      "[(np.int64(80), np.int64(6), np.float64(0.03449631306523156)), (np.int64(50), np.int64(4), np.float64(0.024982106908712585)), (np.int64(83), np.int64(7), np.float64(0.01918577112646084)), (np.int64(31), np.int64(2), np.float64(0.07323817072513801)), (np.int64(60), np.int64(4), np.float64(0.0621634762630877)), (np.int64(89), np.int64(8), np.float64(0.01395015701395247)), (np.int64(10), np.int64(1), np.float64(0.00818613679184694)), (np.int64(37), np.int64(3), np.float64(0.023360457518105036)), (np.int64(70), np.int64(4), np.float64(0.1343597666607144)), (np.int64(90), np.int64(10), np.float64(0.0048338319142177)), (np.int64(17), np.int64(1), np.float64(0.11623143626861421)), (np.int64(40), np.int64(3), np.float64(0.03449631306523156)), (np.int64(73), np.int64(4), np.float64(0.16572702773037154)), (np.int64(100), np.int64(15), np.float64(0.0010780097832884862)), (np.int64(20), np.int64(2), np.float64(0.00818613679184694)), (np.int64(41), np.int64(3), np.float64(0.03902941191644914)), (np.int64(79), np.int64(5), np.float64(0.08060545471501428)), (np.int64(23), np.int64(2), np.float64(0.016465245074139535)), (np.int64(47), np.int64(3), np.float64(0.07726130040448946)), (np.int64(30), np.int64(2), np.float64(0.0621634762630877))]\n",
      "Exponent: 1 Profit: 137795.00 Optimal expeditions: [(83, 7), (89, 8)]\n",
      "[(np.int64(80), np.int64(6), np.float64(0.013127049642581759)), (np.int64(50), np.int64(4), np.float64(0.006884618691536646)), (np.int64(83), np.int64(7), np.float64(0.004060507202294114)), (np.int64(31), np.int64(2), np.float64(0.05916934248501278)), (np.int64(60), np.int64(4), np.float64(0.04262774430672328)), (np.int64(89), np.int64(8), np.float64(0.0021467425186410594)), (np.int64(10), np.int64(1), np.float64(0.0007392303031395052)), (np.int64(37), np.int64(3), np.float64(0.006019833161093898)), (np.int64(70), np.int64(4), np.float64(0.1991408004261753)), (np.int64(90), np.int64(10), np.float64(0.0002577536689733328)), (np.int64(17), np.int64(1), np.float64(0.14902837821563075)), (np.int64(40), np.int64(3), np.float64(0.013127049642581759)), (np.int64(73), np.int64(4), np.float64(0.30297615479201584)), (np.int64(100), np.int64(15), np.float64(1.2819384416583749e-05)), (np.int64(20), np.int64(2), np.float64(0.0007392303031395052)), (np.int64(41), np.int64(3), np.float64(0.016803733358367212)), (np.int64(79), np.int64(5), np.float64(0.07167218277139224)), (np.int64(23), np.int64(2), np.float64(0.0029905988713357285)), (np.int64(47), np.int64(3), np.float64(0.06584848594822529)), (np.int64(30), np.int64(2), np.float64(0.04262774430672328))]\n",
      "Exponent: 2 Profit: 179811.00 Optimal expeditions: [(80, 6), (83, 7), (89, 8)]\n",
      "[(np.int64(80), np.int64(6), np.float64(0.0038759433570440672)), (np.int64(50), np.int64(4), np.float64(0.0014721313712425257)), (np.int64(83), np.int64(7), np.float64(0.0006668024056142886)), (np.int64(31), np.int64(2), np.float64(0.03709128206935371)), (np.int64(60), np.int64(4), np.float64(0.022681159797359008)), (np.int64(89), np.int64(8), np.float64(0.00025632836497444726)), (np.int64(10), np.int64(1), np.float64(5.17960179294395e-05)), (np.int64(37), np.int64(3), np.float64(0.0012036588482549177)), (np.int64(70), np.int64(4), np.float64(0.22901667383511037)), (np.int64(90), np.int64(10), np.float64(1.0664340769487035e-05)), (np.int64(17), np.int64(1), np.float64(0.14826211569764333)), (np.int64(40), np.int64(3), np.float64(0.0038759433570440672)), (np.int64(73), np.int64(4), np.float64(0.4297732735837837)), (np.int64(100), np.int64(15), np.float64(1.1828440420666709e-07)), (np.int64(20), np.int64(2), np.float64(5.17960179294395e-05)), (np.int64(41), np.int64(3), np.float64(0.00561352165745745)), (np.int64(79), np.int64(5), np.float64(0.049448449316508276)), (np.int64(23), np.int64(2), np.float64(0.00042146739003704625)), (np.int64(47), np.int64(3), np.float64(0.04354571449018144)), (np.int64(30), np.int64(2), np.float64(0.022681159797359008))]\n",
      "Exponent: 3 Profit: 214381.00 Optimal expeditions: [(80, 6), (50, 4), (37, 3)]\n",
      "[(np.int64(80), np.int64(6), np.float64(0.0010076506194362728)), (np.int64(50), np.int64(4), np.float64(0.00027716316001237344)), (np.int64(83), np.int64(7), np.float64(9.641315420884421e-05)), (np.int64(31), np.int64(2), np.float64(0.02047242116649156)), (np.int64(60), np.int64(4), np.float64(0.01062577034235755)), (np.int64(89), np.int64(8), np.float64(2.6948564563226135e-05)), (np.int64(10), np.int64(1), np.float64(3.1954736746305383e-06)), (np.int64(37), np.int64(3), np.float64(0.0002119066720262364)), (np.int64(70), np.int64(4), np.float64(0.2318975806639434)), (np.int64(90), np.int64(10), np.float64(3.8849499919381414e-07)), (np.int64(17), np.int64(1), np.float64(0.1298714446754896)), (np.int64(40), np.int64(3), np.float64(0.0010076506194362728)), (np.int64(73), np.int64(4), np.float64(0.5367754193424489)), (np.int64(100), np.int64(15), np.float64(9.609705156672218e-10)), (np.int64(20), np.int64(2), np.float64(3.1954736746305383e-06)), (np.int64(41), np.int64(3), np.float64(0.0016511528710770756)), (np.int64(79), np.int64(5), np.float64(0.030038412929914535)), (np.int64(23), np.int64(2), np.float64(5.229883938401562e-05)), (np.int64(47), np.int64(3), np.float64(0.025355215633533566)), (np.int64(30), np.int64(2), np.float64(0.01062577034235755))]\n",
      "Exponent: 4 Profit: 239668.00 Optimal expeditions: [(80, 6), (40, 3), (41, 3)]\n",
      "[(np.int64(80), np.int64(6), np.float64(0.00024382759767905993)), (np.int64(50), np.int64(4), np.float64(4.8569627171852255e-05)), (np.int64(83), np.int64(7), np.float64(1.2975250575652926e-05)), (np.int64(31), np.int64(2), np.float64(0.010517363853818417)), (np.int64(60), np.int64(4), np.float64(0.004633358676007678)), (np.int64(89), np.int64(8), np.float64(2.637029182413477e-06)), (np.int64(10), np.int64(1), np.float64(1.8349086355346392e-07)), (np.int64(37), np.int64(3), np.float64(3.47237146183576e-05)), (np.int64(70), np.int64(4), np.float64(0.21855747354723642)), (np.int64(90), np.int64(10), np.float64(1.3172772170487202e-08)), (np.int64(17), np.int64(1), np.float64(0.10588574071370992)), (np.int64(40), np.int64(3), np.float64(0.00024382759767905993)), (np.int64(73), np.int64(4), np.float64(0.6240022625553162)), (np.int64(100), np.int64(15), np.float64(7.266628673048613e-12)), (np.int64(20), np.int64(2), np.float64(1.8349086355346392e-07)), (np.int64(41), np.int64(3), np.float64(0.00045204273572516096)), (np.int64(79), np.int64(5), np.float64(0.016984064029161163)), (np.int64(23), np.int64(2), np.float64(6.040327043480771e-06)), (np.int64(47), np.int64(3), np.float64(0.013741353907301447)), (np.int64(30), np.int64(2), np.float64(0.004633358676007678))]\n",
      "Exponent: 5 Profit: 251860.00 Optimal expeditions: [(80, 6), (60, 4), (41, 3)]\n",
      "[(np.int64(80), np.int64(6), np.float64(5.6488411285250715e-05)), (np.int64(50), np.int64(4), np.float64(8.148874935434555e-06)), (np.int64(83), np.int64(7), np.float64(1.6718558653001787e-06)), (np.int64(31), np.int64(2), np.float64(0.005173068240062076)), (np.int64(60), np.int64(4), np.float64(0.001934349893788792)), (np.int64(89), np.int64(8), np.float64(2.4705739160041253e-07)), (np.int64(10), np.int64(1), np.float64(1.0087818557703505e-08)), (np.int64(37), np.int64(3), np.float64(5.447676911475068e-06)), (np.int64(70), np.int64(4), np.float64(0.19721444552322331)), (np.int64(90), np.int64(10), np.float64(4.2763431313127253e-10)), (np.int64(17), np.int64(1), np.float64(0.08265419560078181)), (np.int64(40), np.int64(3), np.float64(5.6488411285250715e-05)), (np.int64(73), np.int64(4), np.float64(0.6945177123528441)), (np.int64(100), np.int64(15), np.float64(5.260893263411775e-14)), (np.int64(20), np.int64(2), np.float64(1.0087818557703505e-08)), (np.int64(41), np.int64(3), np.float64(0.00011848826010577955)), (np.int64(79), np.int64(5), np.float64(0.009194113715456215)), (np.int64(23), np.int64(2), np.float64(6.679323418840974e-07)), (np.int64(47), np.int64(3), np.float64(0.0071300956966090226)), (np.int64(30), np.int64(2), np.float64(0.001934349893788792))]\n",
      "Exponent: 6 Profit: 265981.00 Optimal expeditions: [(60, 4), (41, 3), (30, 2)]\n",
      "[(np.int64(80), np.int64(6), np.float64(1.2725800491051065e-05)), (np.int64(50), np.int64(4), np.float64(1.3294738036583651e-06)), (np.int64(83), np.int64(7), np.float64(2.0947449961523685e-07)), (np.int64(31), np.int64(2), np.float64(0.0024742225741253648)), (np.int64(60), np.int64(4), np.float64(0.0007852779373138426)), (np.int64(89), np.int64(8), np.float64(2.250764293715053e-08)), (np.int64(10), np.int64(1), np.float64(5.392986448624748e-10)), (np.int64(37), np.int64(3), np.float64(8.310855974943135e-07)), (np.int64(70), np.int64(4), np.float64(0.1730457880628552)), (np.int64(90), np.int64(10), np.float64(1.3499483717228989e-11)), (np.int64(17), np.int64(1), np.float64(0.06273957569306171)), (np.int64(40), np.int64(3), np.float64(1.2725800491051065e-05)), (np.int64(73), np.int64(4), np.float64(0.7516743604350312)), (np.int64(100), np.int64(15), np.float64(3.703695399177687e-16)), (np.int64(20), np.int64(2), np.float64(5.392986448624748e-10)), (np.int64(41), np.int64(3), np.float64(3.0200935722206647e-05)), (np.int64(79), np.int64(5), np.float64(0.004839799522903782)), (np.int64(23), np.int64(2), np.float64(7.182137931054694e-08)), (np.int64(47), np.int64(3), np.float64(0.0035975798456703506)), (np.int64(30), np.int64(2), np.float64(0.0007852779373138426))]\n",
      "Exponent: 7 Profit: 285500.00 Optimal expeditions: [(60, 4), (79, 5), (30, 2)]\n",
      "[(np.int64(80), np.int64(6), np.float64(2.812896263204658e-06)), (np.int64(50), np.int64(4), np.float64(2.1281624304839578e-07)), (np.int64(83), np.int64(7), np.float64(2.5751726206031768e-08)), (np.int64(31), np.int64(2), np.float64(0.0011611068269767313)), (np.int64(60), np.int64(4), np.float64(0.0003127912632345309)), (np.int64(89), np.int64(8), np.float64(2.0118937333798972e-09)), (np.int64(10), np.int64(1), np.float64(2.8288130821769468e-11)), (np.int64(37), np.int64(3), np.float64(1.2440075773246462e-07)), (np.int64(70), np.int64(4), np.float64(0.14897939258076429)), (np.int64(90), np.int64(10), np.float64(4.181235503085624e-13)), (np.int64(17), np.int64(1), np.float64(0.04672626922157365)), (np.int64(40), np.int64(3), np.float64(2.812896263204658e-06)), (np.int64(73), np.int64(4), np.float64(0.7982133802589507)), (np.int64(100), np.int64(15), np.float64(2.5583142480215046e-18)), (np.int64(20), np.int64(2), np.float64(2.8288130821769468e-11)), (np.int64(41), np.int64(3), np.float64(7.552806037473082e-06)), (np.int64(79), np.int64(5), np.float64(0.0024996990776556447)), (np.int64(23), np.int64(2), np.float64(7.577359038270382e-09)), (np.int64(47), np.int64(3), np.float64(0.0017810182940719331)), (np.int64(30), np.int64(2), np.float64(0.0003127912632345309))]\n",
      "Exponent: 8 Profit: 297200.00 Optimal expeditions: [(60, 4), (79, 5), (47, 3)]\n",
      "[(np.int64(80), np.int64(6), np.float64(6.133781524860712e-07)), (np.int64(50), np.int64(4), np.float64(3.360746392013894e-08)), (np.int64(83), np.int64(7), np.float64(3.123111661629837e-09)), (np.int64(31), np.int64(2), np.float64(0.0005375409733368202)), (np.int64(60), np.int64(4), np.float64(0.00012291130030850264)), (np.int64(89), np.int64(8), np.float64(1.7741324524386284e-10)), (np.int64(10), np.int64(1), np.float64(1.4638115032262298e-12)), (np.int64(37), np.int64(3), np.float64(1.8369878181706758e-08)), (np.int64(70), np.int64(4), np.float64(0.12653111834908756)), (np.int64(90), np.int64(10), np.float64(1.2776093470706243e-14)), (np.int64(17), np.int64(1), np.float64(0.03433101295607152)), (np.int64(40), np.int64(3), np.float64(6.133781524860712e-07)), (np.int64(73), np.int64(4), np.float64(0.8362078714420457)), (np.int64(100), np.int64(15), np.float64(1.7433255620917157e-20)), (np.int64(20), np.int64(2), np.float64(1.4638115032262298e-12)), (np.int64(41), np.int64(3), np.float64(1.8633835006369435e-06)), (np.int64(79), np.int64(5), np.float64(0.0012736616390416893)), (np.int64(23), np.int64(2), np.float64(7.886566535300203e-10)), (np.int64(47), np.int64(3), np.float64(0.0008698258305301171)), (np.int64(30), np.int64(2), np.float64(0.00012291130030850264))]\n",
      "Exponent: 9 Profit: 307270.00 Optimal expeditions: [(31, 2), (79, 5), (47, 3)]\n"
     ]
    }
   ],
   "source": [
    "for i in range(10):\n",
    "    shares = ratios**i\n",
    "    shares = shares / np.sum(shares)\n",
    "    res = maximize_prior_top(shares, 1)\n",
    "    \n",
    "    # convert res values to int\n",
    "    res = [(int(x[0]), [(int(y[0]), int(y[1])) for y in x[1]]) for x in res]\n",
    "    print(\"Exponent:\", i, \"Profit:\", f\"{res[0][0]:.2f}\", \"Optimal expeditions:\", res[0][1])"
   ]
  }
 ],
 "metadata": {
  "kernelspec": {
   "display_name": "imc-prosperity3",
   "language": "python",
   "name": "python3"
  },
  "language_info": {
   "codemirror_mode": {
    "name": "ipython",
    "version": 3
   },
   "file_extension": ".py",
   "mimetype": "text/x-python",
   "name": "python",
   "nbconvert_exporter": "python",
   "pygments_lexer": "ipython3",
   "version": "3.12.8"
  }
 },
 "nbformat": 4,
 "nbformat_minor": 5
}
